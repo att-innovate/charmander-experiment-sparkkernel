{"metadata": {
    "language_info": {
        "name": "scala"
    },
    "kernelspec": {
        "language": "scala",
        "name": "spark",
        "display_name": "Spark 1.1.0 (Scala 2.10.4)"
    }
}, "nbformat_minor": 0, "nbformat": 4, "cells": [
    {
        "metadata": {},
        "source": "***Load Charmader Utilities***",
        "cell_type": "markdown"
    },
    {
        "metadata": {
            "trusted": true,
            "collapsed": false
        },
        "execution_count": 1,
        "outputs": [],
        "source": "import org.att.charmander.CharmanderUtils",
        "cell_type": "code"
    },
    {
        "metadata": {},
        "source": "&nbsp;\n\n***See what tasks are currently running and pick first test***",
        "cell_type": "markdown"
    },
    {
        "metadata": {
            "trusted": true,
            "collapsed": false
        },
        "execution_count": 8,
        "outputs": [
            {
                "data": {
                    "text/plain": "List(lookbusy80)"
                },
                "execution_count": 8,
                "metadata": {},
                "output_type": "execute_result"
            }
        ],
        "source": "val runningSimulators = CharmanderUtils.getMeteredTaskNamesFromRedis\nval simulatorToInvestigate = runningSimulators(0)\nrunningSimulators",
        "cell_type": "code"
    },
    {
        "metadata": {},
        "source": "&nbsp;\n\n***Retrieve memory-usage datapoints for the first simulator***",
        "cell_type": "markdown"
    },
    {
        "metadata": {
            "trusted": true,
            "collapsed": true
        },
        "execution_count": 3,
        "outputs": [],
        "source": "val memoryUsage= CharmanderUtils.getRDDForTask(sc, simulatorToInvestigate, \"memory_usage\", 100)",
        "cell_type": "code"
    },
    {
        "metadata": {},
        "source": "&nbsp;\n\n***Just for curiosity lets look at the first data point***",
        "cell_type": "markdown"
    },
    {
        "metadata": {
            "trusted": true,
            "collapsed": false
        },
        "execution_count": 4,
        "outputs": [
            {
                "data": {
                    "text/plain": "List(1425192395000, 4050001, 84971520)"
                },
                "execution_count": 4,
                "metadata": {},
                "output_type": "execute_result"
            }
        ],
        "source": "memoryUsage.first",
        "cell_type": "code"
    },
    {
        "metadata": {
            "collapsed": true
        },
        "source": "&nbsp;\n\n***Translate Datapoints in to a Spark-SQL Database***",
        "cell_type": "markdown"
    },
    {
        "metadata": {
            "trusted": true,
            "collapsed": false
        },
        "execution_count": 5,
        "outputs": [],
        "source": "val sqlContext = new org.apache.spark.sql.SQLContext(sc)\nimport sqlContext._\n\ncase class MemoryUsage(timestamp: BigDecimal, memory: BigDecimal)\n\nval memoryusageRdd = memoryUsage.map(p => MemoryUsage(BigDecimal(p(0).asInstanceOf[BigInt]), BigDecimal(p(2).asInstanceOf[BigInt])))\nmemoryusageRdd.registerTempTable(\"memoryusage\")\n",
        "cell_type": "code"
    },
    {
        "metadata": {},
        "source": "&nbsp;\n\n***Get max-memory usage***",
        "cell_type": "markdown"
    },
    {
        "metadata": {
            "trusted": true,
            "collapsed": false
        },
        "execution_count": 9,
        "outputs": [
            {
                "data": {
                    "text/plain": "[84971520]"
                },
                "execution_count": 9,
                "metadata": {},
                "output_type": "execute_result"
            }
        ],
        "source": "val newestMax = sqlContext.sql(\"select max(memory) from memoryusage\").first()\nnewestMax",
        "cell_type": "code"
    },
    {
        "metadata": {},
        "source": "&nbsp;\n\n***Set the new max value in our task intelligence database***",
        "cell_type": "markdown"
    },
    {
        "metadata": {
            "trusted": true,
            "collapsed": true
        },
        "execution_count": 7,
        "outputs": [],
        "source": "CharmanderUtils.setTaskIntelligence(simulatorToInvestigate, \"mem\", newestMax(0).toString)",
        "cell_type": "code"
    },
    {
        "metadata": {},
        "source": "***To Verify that the value is set***\n\nVisit [redis](http://172.31.2.11:31610/) and look for the task-intelligence section\n",
        "cell_type": "markdown"
    },
    {
        "metadata": {
            "trusted": true,
            "collapsed": true
        },
        "execution_count": 20,
        "outputs": [],
        "source": "",
        "cell_type": "code"
    }
]}